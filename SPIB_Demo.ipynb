{
  "cells": [
    {
      "cell_type": "markdown",
      "metadata": {
        "id": "view-in-github",
        "colab_type": "text"
      },
      "source": [
        "<a href=\"https://colab.research.google.com/github/pratyushtiw/State-Predictive-Information-Bottleneck/blob/main/SPIB_Demo.ipynb\" target=\"_parent\"><img src=\"https://colab.research.google.com/assets/colab-badge.svg\" alt=\"Open In Colab\"/></a>"
      ]
    },
    {
      "cell_type": "markdown",
      "metadata": {
        "id": "UV-7K58xpoe8"
      },
      "source": [
        "# SPIB Demo 2021\n",
        "This notebook aims to serve as a simple introduction to the state predictive information bottleneck method of [Wang and Tiwary 2021](https://aip.scitation.org/doi/abs/10.1063/5.0038198). The code is implemented using Pytorch."
      ]
    },
    {
      "cell_type": "markdown",
      "metadata": {
        "id": "mTEOlYq0poe-"
      },
      "source": [
        "<img src=\"https://github.com/tiwarylab/State-Predictive-Information-Bottleneck/blob/main/fig/Fig_alg.png?raw=1\">"
      ]
    },
    {
      "cell_type": "markdown",
      "metadata": {
        "id": "mhvVL7Vwpoe_"
      },
      "source": [
        "<img src=\"https://github.com/tiwarylab/State-Predictive-Information-Bottleneck/blob/main/fig/Fig_FW_example.png?raw=1\">"
      ]
    },
    {
      "cell_type": "markdown",
      "metadata": {
        "id": "Nb7lz9avqAgE"
      },
      "source": [
        "## Clone the Github to Colab"
      ]
    },
    {
      "cell_type": "code",
      "execution_count": 1,
      "metadata": {
        "id": "A9rV6PLpqWdL"
      },
      "outputs": [],
      "source": [
        "!git clone https://github.com/pratyushtiw/State-Predictive-Information-Bottleneck"
      ]
    },
    {
      "cell_type": "code",
      "execution_count": 2,
      "metadata": {
        "id": "sXbi8-uvpoe_"
      },
      "outputs": [],
      "source": [
        "%matplotlib notebook\n",
        "%matplotlib inline\n",
        "import numpy as np\n",
        "import matplotlib.pyplot as plt\n",
        "import time\n",
        "\n",
        "plt.rcParams['figure.figsize'] = [25, 20]\n",
        "np.random.seed(42)"
      ]
    },
    {
      "cell_type": "code",
      "execution_count": 3,
      "metadata": {
        "id": "VddiiGLrpofA"
      },
      "outputs": [],
      "source": [
        "large = 54; med = 36; small = 24\n",
        "l_width = 3; m_width = 1.5; s_width = 0.7\n",
        "params = {'axes.titlesize': large,\n",
        "          'legend.fontsize': large,\n",
        "          'legend.title_fontsize':large,\n",
        "          'figure.figsize': (16, 10),\n",
        "          'axes.labelsize': large,\n",
        "          'xtick.labelsize': med,\n",
        "          'ytick.labelsize': med,\n",
        "          'figure.titlesize': large,\n",
        "          'lines.linewidth': l_width,\n",
        "          'lines.markersize': 10,\n",
        "          'axes.linewidth': l_width,\n",
        "          'xtick.major.size': 8,\n",
        "          'ytick.major.size': 8,\n",
        "          'xtick.minor.size': 4,\n",
        "          'ytick.minor.size': 4,\n",
        "          'xtick.major.width': m_width,\n",
        "          'ytick.major.width': m_width,\n",
        "          'xtick.minor.width': s_width,\n",
        "          'ytick.minor.width': s_width,\n",
        "          'grid.linewidth': m_width}\n",
        "plt.rcParams.update(params)"
      ]
    },
    {
      "cell_type": "code",
      "source": [
        "!pwd"
      ],
      "metadata": {
        "id": "tmc1SVVbUoYI",
        "outputId": "352f01b7-71e3-425c-b079-633f13ad77fa",
        "colab": {
          "base_uri": "https://localhost:8080/"
        }
      },
      "execution_count": 8,
      "outputs": [
        {
          "output_type": "stream",
          "name": "stdout",
          "text": [
            "/content\n"
          ]
        }
      ]
    },
    {
      "cell_type": "markdown",
      "metadata": {
        "id": "v6xfdUkCpofA"
      },
      "source": [
        "## Data Preparation\n",
        "The trajectory data can be generated from the molecular dynamics simulation or experiements. Here, we use a sample trajectory generated from Langevin dynamics simulation of a four-well analytical potential."
      ]
    },
    {
      "cell_type": "code",
      "execution_count": 6,
      "metadata": {
        "id": "caNhwkeWpofB",
        "outputId": "716856d2-5bc7-43dd-8c85-0eb0007a0d6c",
        "colab": {
          "base_uri": "https://localhost:8080/",
          "height": 280
        }
      },
      "outputs": [
        {
          "output_type": "error",
          "ename": "FileNotFoundError",
          "evalue": "[Errno 2] No such file or directory: 'examples/Four_Well_beta3_gamma4_traj_data.npy'",
          "traceback": [
            "\u001b[0;31m---------------------------------------------------------------------------\u001b[0m",
            "\u001b[0;31mFileNotFoundError\u001b[0m                         Traceback (most recent call last)",
            "\u001b[0;32m/tmp/ipython-input-1405767223.py\u001b[0m in \u001b[0;36m<cell line: 0>\u001b[0;34m()\u001b[0m\n\u001b[1;32m      1\u001b[0m \u001b[0;31m# Load trajectory data\u001b[0m\u001b[0;34m\u001b[0m\u001b[0;34m\u001b[0m\u001b[0m\n\u001b[0;32m----> 2\u001b[0;31m \u001b[0mtraj_data\u001b[0m \u001b[0;34m=\u001b[0m \u001b[0mnp\u001b[0m\u001b[0;34m.\u001b[0m\u001b[0mload\u001b[0m\u001b[0;34m(\u001b[0m\u001b[0;34m\"examples/Four_Well_beta3_gamma4_traj_data.npy\"\u001b[0m\u001b[0;34m)\u001b[0m\u001b[0;34m\u001b[0m\u001b[0;34m\u001b[0m\u001b[0m\n\u001b[0m",
            "\u001b[0;32m/usr/local/lib/python3.12/dist-packages/numpy/lib/_npyio_impl.py\u001b[0m in \u001b[0;36mload\u001b[0;34m(file, mmap_mode, allow_pickle, fix_imports, encoding, max_header_size)\u001b[0m\n\u001b[1;32m    453\u001b[0m             \u001b[0mown_fid\u001b[0m \u001b[0;34m=\u001b[0m \u001b[0;32mFalse\u001b[0m\u001b[0;34m\u001b[0m\u001b[0;34m\u001b[0m\u001b[0m\n\u001b[1;32m    454\u001b[0m         \u001b[0;32melse\u001b[0m\u001b[0;34m:\u001b[0m\u001b[0;34m\u001b[0m\u001b[0;34m\u001b[0m\u001b[0m\n\u001b[0;32m--> 455\u001b[0;31m             \u001b[0mfid\u001b[0m \u001b[0;34m=\u001b[0m \u001b[0mstack\u001b[0m\u001b[0;34m.\u001b[0m\u001b[0menter_context\u001b[0m\u001b[0;34m(\u001b[0m\u001b[0mopen\u001b[0m\u001b[0;34m(\u001b[0m\u001b[0mos\u001b[0m\u001b[0;34m.\u001b[0m\u001b[0mfspath\u001b[0m\u001b[0;34m(\u001b[0m\u001b[0mfile\u001b[0m\u001b[0;34m)\u001b[0m\u001b[0;34m,\u001b[0m \u001b[0;34m\"rb\"\u001b[0m\u001b[0;34m)\u001b[0m\u001b[0;34m)\u001b[0m\u001b[0;34m\u001b[0m\u001b[0;34m\u001b[0m\u001b[0m\n\u001b[0m\u001b[1;32m    456\u001b[0m             \u001b[0mown_fid\u001b[0m \u001b[0;34m=\u001b[0m \u001b[0;32mTrue\u001b[0m\u001b[0;34m\u001b[0m\u001b[0;34m\u001b[0m\u001b[0m\n\u001b[1;32m    457\u001b[0m \u001b[0;34m\u001b[0m\u001b[0m\n",
            "\u001b[0;31mFileNotFoundError\u001b[0m: [Errno 2] No such file or directory: 'examples/Four_Well_beta3_gamma4_traj_data.npy'"
          ]
        }
      ],
      "source": [
        "# Load trajectory data\n",
        "traj_data = np.load(\"examples/Four_Well_beta3_gamma4_traj_data.npy\")"
      ]
    },
    {
      "cell_type": "markdown",
      "metadata": {
        "id": "MmYBY0_DpofB"
      },
      "source": [
        "### Visualization of the trajectory"
      ]
    },
    {
      "cell_type": "code",
      "execution_count": null,
      "metadata": {
        "id": "fQJQXeXUpofC"
      },
      "outputs": [],
      "source": [
        "fig, ax = plt.subplots(figsize=(12,10))\n",
        "\n",
        "t = np.arange(traj_data.shape[0])\n",
        "ax.plot(t[::100],traj_data[::100,0],'x',label='x')\n",
        "ax.plot(t[::100],traj_data[::100,1],'o',fillstyle='none',label='y')\n",
        "ax.set_xlabel('time step')\n",
        "ax.legend(fontsize=36,bbox_to_anchor=(0.99, 0.7))"
      ]
    },
    {
      "cell_type": "code",
      "execution_count": null,
      "metadata": {
        "id": "j9lHWnkBpofD"
      },
      "outputs": [],
      "source": [
        "# The four-well analytical potential along x\n",
        "def potential_fn_FW(x):\n",
        "    A=0.6\n",
        "    a=80\n",
        "    B=0.2\n",
        "    b=80\n",
        "    C=0.5\n",
        "    c=40\n",
        "    return 2*(x**8+A*np.exp(-a*x**2)+B*np.exp(-b*(x-0.5)**2)+C*np.exp(-c*(x+0.5)**2))+(x**2-1)**2"
      ]
    },
    {
      "cell_type": "code",
      "execution_count": null,
      "metadata": {
        "id": "YaPBDKwgpofE"
      },
      "outputs": [],
      "source": [
        "from mpl_toolkits.axes_grid1 import make_axes_locatable\n",
        "fig, ax = plt.subplots(1,2,figsize=(18,8))\n",
        "\n",
        "beta=3\n",
        "lw=8\n",
        "\n",
        "x=np.arange(-1,1,0.01)\n",
        "v=potential_fn_FW(x)\n",
        "ax[0].plot(x,v,color='k',lw=lw)\n",
        "ax[0].axvline(x=0,color='b',linestyle='--',lw=lw)\n",
        "ax[0].axvline(x=-0.5,color='b',linestyle='--',lw=lw)\n",
        "ax[0].axvline(x=0.5,color='b',linestyle='--',lw=lw)\n",
        "ax[0].text(-0.75, 1.8, 'A', horizontalalignment='center',fontsize=54)\n",
        "ax[0].text(-0.25, 1.8, 'B', horizontalalignment='center', fontsize=54)\n",
        "ax[0].text(0.25, 1.8, 'C', horizontalalignment='center',fontsize=54)\n",
        "ax[0].text(0.75, 1.8, 'D', horizontalalignment='center', fontsize=54)\n",
        "ax[0].set_xlabel(\"x\")\n",
        "ax[0].set_ylabel(\"Potential\")\n",
        "\n",
        "ax[0].text(-0.2, 1.2, '(a)', horizontalalignment='center',\n",
        "             transform=ax[0].transAxes,fontsize=54, va='top')\n",
        "\n",
        "FW_counts,FW_xbins,FW_ybins,images = plt.hist2d(traj_data[:,0],traj_data[:,1],bins=100)\n",
        "FW_counts[FW_counts==0]=FW_counts[FW_counts!=0].min()\n",
        "FW_G=-np.log(FW_counts)/beta\n",
        "FW_G=FW_G-np.nanmin(FW_G)\n",
        "\n",
        "h0=ax[1].contourf(FW_G.transpose(),levels=5,extent=[FW_xbins[0],FW_xbins[-1],FW_ybins[0],FW_ybins[-1]],cmap='jet')\n",
        "divider = make_axes_locatable(ax[1])\n",
        "cax = divider.append_axes(\"top\", \"5%\", pad=\"3%\")\n",
        "tickz = np.arange(0,FW_G.max(),1)\n",
        "cb1 = fig.colorbar(h0, cax=cax, orientation=\"horizontal\",ticks=tickz)\n",
        "cb1.set_label('Free Energy',fontsize=48)\n",
        "cax.xaxis.set_ticks_position(\"top\")\n",
        "cax.xaxis.set_label_position(\"top\")\n",
        "ax[1].set_xlabel(\"x\")\n",
        "ax[1].set_ylabel('y')\n",
        "\n",
        "\n",
        "ax[1].text(-0.2, 1.3, '(b)', horizontalalignment='center',\n",
        "             transform=ax[1].transAxes,fontsize=54, va='top')\n",
        "\n",
        "plt.tight_layout(pad=0.4, w_pad=5, h_pad=3.0)"
      ]
    },
    {
      "cell_type": "markdown",
      "metadata": {
        "id": "mWZEC7vkpofE"
      },
      "source": [
        "### Generation of initial state labels"
      ]
    },
    {
      "cell_type": "code",
      "execution_count": null,
      "metadata": {
        "id": "fYeCeusPpofE"
      },
      "outputs": [],
      "source": [
        "# discretize the system along x to 10 states as initial state labels\n",
        "index=0\n",
        "\n",
        "x_max=traj_data[:,index].max()+0.01\n",
        "x_min=traj_data[:,index].min()-0.01\n",
        "\n",
        "state_num=10\n",
        "eps=1e-3\n",
        "\n",
        "x_det=(x_max-x_min+2*eps)/state_num\n",
        "\n",
        "init_label=np.zeros((traj_data.shape[0],state_num))\n",
        "\n",
        "x_list=np.array([(x_min-eps+n*x_det) for n in range(state_num+1)])\n",
        "\n",
        "for j in range(state_num):\n",
        "    indices=(traj_data[:,index]>x_list[j])&(traj_data[:,index]<=x_list[j+1])\n",
        "    init_label[indices,j]=1\n",
        "\n",
        "np.save('State-Predictive-Information-Bottleneck/examples/Four_Well_beta3_gamma4_init_label10.npy',init_label)"
      ]
    },
    {
      "cell_type": "code",
      "execution_count": null,
      "metadata": {
        "id": "NFibYAvHpofF"
      },
      "outputs": [],
      "source": [
        "# plot the initial state labels for four well potential system\n",
        "import matplotlib\n",
        "from matplotlib import colors as c\n",
        "data=traj_data\n",
        "labels=init_label\n",
        "\n",
        "fig0, ax0 = plt.subplots(figsize=(9,6))\n",
        "hist=ax0.hist2d(data[:,0],data[:,1],bins=100)\n",
        "\n",
        "state_num=labels.shape[1]\n",
        "state_labels=np.arange(state_num)\n",
        "\n",
        "x_max=np.max(data[:,0])\n",
        "x_min=np.min(data[:,0])\n",
        "\n",
        "eps=1e-3\n",
        "\n",
        "x_det=(x_max-x_min+2*eps)/state_num\n",
        "\n",
        "x_list=np.array([(x_min-eps+n*x_det) for n in range(state_num+1)])\n",
        "\n",
        "hist_state=np.zeros([state_num]+list(hist[0].shape))\n",
        "\n",
        "for i in range(state_num):\n",
        "    hist_state[i]=ax0.hist2d(data[:,0],data[:,1],bins=[hist[1],hist[2]],weights=labels[:,i])[0]\n",
        "\n",
        "init_label_map=np.argmax(hist_state,axis=0).astype(float)\n",
        "init_label_map[hist[0]==0]=np.nan\n",
        "plt.close(fig0)"
      ]
    },
    {
      "cell_type": "code",
      "execution_count": null,
      "metadata": {
        "id": "Y7hTQWAwpofF"
      },
      "outputs": [],
      "source": [
        "fig, ax = plt.subplots(figsize=(9,6))\n",
        "\n",
        "fmt = matplotlib.ticker.FuncFormatter(lambda x, pos: state_labels[x])\n",
        "tickz = np.arange(0,len(state_labels))\n",
        "\n",
        "cMap = c.ListedColormap(plt.cm.tab20.colors[0:10])\n",
        "im=ax.pcolormesh(hist[1], hist[2], init_label_map.T, cmap=cMap, vmin=-0.5, vmax=len(state_labels)-0.5)\n",
        "cb1 = fig.colorbar(im,ax=ax,format=fmt, ticks=tickz)\n",
        "\n",
        "for i in range(state_num):\n",
        "    ax.text((x_list[i]+x_list[i+1])/2,0,state_labels[i],horizontalalignment='center',verticalalignment='center',fontsize=32)\n",
        "\n",
        "plt.xlabel(\"x\")\n",
        "plt.ylabel(\"y\")"
      ]
    },
    {
      "cell_type": "markdown",
      "metadata": {
        "id": "4mEVzN0npofG"
      },
      "source": [
        "## Model\n",
        "We provide two ways to run SPIB: test_model.py and test_model_advanced.py. Here, we will only discuss the use of test_model.py. But for advanced analyses, we will strongly recommend to use test_model_advanced.py as it provides more features to help you to control the training process and tune the hyper-parameters."
      ]
    },
    {
      "cell_type": "markdown",
      "metadata": {
        "id": "PE4RwpBxpofG"
      },
      "source": [
        "## Training"
      ]
    },
    {
      "cell_type": "code",
      "execution_count": null,
      "metadata": {
        "id": "3au5hVq8pofG"
      },
      "outputs": [],
      "source": [
        "%run State-Predictive-Information-Bottleneck/test_model.py -dt 50 -d 1 -encoder_type Nonlinear -bs 512 -threshold 0.01 -patience 2 -refinements 8 -lr 0.001 -b 0.01 -seed 0 -label State-Predictive-Information-Bottleneck/examples/Four_Well_beta3_gamma4_init_label10.npy -traj State-Predictive-Information-Bottleneck/examples/Four_Well_beta3_gamma4_traj_data.npy"
      ]
    },
    {
      "cell_type": "markdown",
      "metadata": {
        "id": "vPNfj2QRpofG"
      },
      "source": [
        "## Result Analysis"
      ]
    },
    {
      "cell_type": "code",
      "execution_count": null,
      "metadata": {
        "id": "R_oEcGCLpofG"
      },
      "outputs": [],
      "source": [
        "prefix='SPIB/Unweighted_d=1_t=50_b=0.0100_learn=0.001000'\n",
        "repeat='0'"
      ]
    },
    {
      "cell_type": "code",
      "execution_count": null,
      "metadata": {
        "id": "ko5yBagipofH"
      },
      "outputs": [],
      "source": [
        "# load the results\n",
        "# the deterministic part of RC leanred by SPIB (the mean of output gaussian distrition of the encoder)\n",
        "traj_mean_rep=np.load(prefix+\"_traj0_mean_representation\"+repeat+\".npy\")\n",
        "# the final state labels leanred by SPIB\n",
        "traj_labels=np.load(prefix+\"_traj0_labels\"+repeat+\".npy\")"
      ]
    },
    {
      "cell_type": "code",
      "execution_count": null,
      "metadata": {
        "id": "50L61oNfpofH"
      },
      "outputs": [],
      "source": [
        "# plot the learned state labels for four well potential system\n",
        "import matplotlib\n",
        "from matplotlib import colors as c\n",
        "data=traj_data\n",
        "labels=traj_labels\n",
        "hist=plt.hist2d(data[:,0],data[:,1],bins=100)\n",
        "\n",
        "state_num=labels.shape[1]\n",
        "state_labels=np.arange(state_num)\n",
        "\n",
        "hist_state=np.zeros([state_num]+list(hist[0].shape))\n",
        "\n",
        "for i in range(state_num):\n",
        "    hist_state[i]=plt.hist2d(data[:,0],data[:,1],bins=[hist[1],hist[2]],weights=labels[:,i])[0]\n",
        "\n",
        "label_map50=np.argmax(hist_state,axis=0).astype(float)\n",
        "label_map50[hist[0]==0]=np.nan\n",
        "\n",
        "plt.close()"
      ]
    },
    {
      "cell_type": "code",
      "execution_count": null,
      "metadata": {
        "id": "KH08PQl5pofH"
      },
      "outputs": [],
      "source": [
        "fig, ax = plt.subplots(figsize=(9,6))\n",
        "\n",
        "fmt = matplotlib.ticker.FuncFormatter(lambda x, pos: state_labels[x])\n",
        "tickz = np.arange(0,len(state_labels))\n",
        "\n",
        "cMap = c.ListedColormap(plt.cm.tab20.colors[0:10])\n",
        "im=ax.pcolormesh(hist[1], hist[2], label_map50.T, cmap=cMap, vmin=-0.5, vmax=len(state_labels)-0.5)\n",
        "cb1 = fig.colorbar(im,ax=ax,format=fmt, ticks=tickz)\n",
        "\n",
        "ax.text(-0.75,0,'1',horizontalalignment='center',verticalalignment='center',fontsize=64)\n",
        "ax.text(0.75,0,'8',horizontalalignment='center',verticalalignment='center',fontsize=64)\n",
        "ax.text(-0.25,0,'3',horizontalalignment='center',verticalalignment='center',fontsize=64)\n",
        "ax.text(0.25,0,'6',horizontalalignment='center',verticalalignment='center',fontsize=64)\n",
        "\n",
        "plt.xlabel(\"x\")\n",
        "plt.ylabel(\"y\")"
      ]
    },
    {
      "cell_type": "code",
      "execution_count": null,
      "metadata": {
        "id": "WxRHRt8MpofH"
      },
      "outputs": [],
      "source": [
        "# plot the learned RC for four well potential system\n",
        "data=traj_data\n",
        "\n",
        "hist=plt.hist2d(data[:,0],data[:,1],bins=100)\n",
        "hist_RC=plt.hist2d(data[:,0],data[:,1],bins=[hist[1],hist[2]],weights=traj_mean_rep[:,0])\n",
        "plt.close()"
      ]
    },
    {
      "cell_type": "code",
      "execution_count": null,
      "metadata": {
        "id": "deRuOO_1pofH"
      },
      "outputs": [],
      "source": [
        "fig, ax = plt.subplots(figsize=(15,10))\n",
        "\n",
        "RC=np.divide(hist_RC[0],hist[0])\n",
        "\n",
        "im=ax.contourf(RC.T, extent=[hist_RC[1][0],hist_RC[1][-1],hist_RC[2][0],hist_RC[2][-1]],levels=10,\n",
        "                    cmap=plt.cm.jet)\n",
        "cb1 = fig.colorbar(im,ax=ax)\n",
        "cb1.set_label('RC')\n",
        "\n",
        "plt.xlabel(\"x\")\n",
        "plt.ylabel(\"y\")\n",
        "plt.tight_layout()"
      ]
    },
    {
      "cell_type": "code",
      "execution_count": null,
      "metadata": {
        "id": "FufbD3mipofI"
      },
      "outputs": [],
      "source": []
    }
  ],
  "metadata": {
    "colab": {
      "name": "SPIB_Demo.ipynb",
      "provenance": [],
      "include_colab_link": true
    },
    "kernelspec": {
      "display_name": "Python 3 (ipykernel)",
      "language": "python",
      "name": "python3"
    },
    "language_info": {
      "codemirror_mode": {
        "name": "ipython",
        "version": 3
      },
      "file_extension": ".py",
      "mimetype": "text/x-python",
      "name": "python",
      "nbconvert_exporter": "python",
      "pygments_lexer": "ipython3",
      "version": "3.7.4"
    }
  },
  "nbformat": 4,
  "nbformat_minor": 0
}